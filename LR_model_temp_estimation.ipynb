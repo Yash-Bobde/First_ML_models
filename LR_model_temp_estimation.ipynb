{
  "nbformat": 4,
  "nbformat_minor": 0,
  "metadata": {
    "colab": {
      "name": "LR model temp estimation.ipynb",
      "provenance": [],
      "collapsed_sections": []
    },
    "kernelspec": {
      "name": "python3",
      "display_name": "Python 3"
    },
    "language_info": {
      "name": "python"
    }
  },
  "cells": [
    {
      "cell_type": "code",
      "metadata": {
        "id": "xsJMgfQD60fA"
      },
      "source": [
        "import numpy as np\n",
        "import matplotlib.pyplot as plt\n",
        "import sklearn\n",
        "import random\n",
        "from sklearn import model_selection\n",
        "from sklearn import linear_model"
      ],
      "execution_count": 23,
      "outputs": []
    },
    {
      "cell_type": "code",
      "metadata": {
        "colab": {
          "base_uri": "https://localhost:8080/"
        },
        "id": "hJqHagwz-LOK",
        "outputId": "a8bffecf-cc6d-4e8a-ff16-de36e643db4f"
      },
      "source": [
        "X = list(range(0,50))\n",
        "y = [1.8*F +32 + random.randint(-5,5)  for F in X]\n",
        "print(f'X: {X}')\n",
        "print(f'y: {y}')"
      ],
      "execution_count": 15,
      "outputs": [
        {
          "output_type": "stream",
          "name": "stdout",
          "text": [
            "X: [0, 1, 2, 3, 4, 5, 6, 7, 8, 9, 10, 11, 12, 13, 14, 15, 16, 17, 18, 19, 20, 21, 22, 23, 24, 25, 26, 27, 28, 29, 30, 31, 32, 33, 34, 35, 36, 37, 38, 39, 40, 41, 42, 43, 44, 45, 46, 47, 48, 49]\n",
            "y: [37.0, 35.8, 40.6, 32.4, 42.2, 42.0, 41.8, 40.6, 49.4, 45.2, 55.0, 52.8, 49.6, 60.400000000000006, 58.2, 64.0, 63.8, 59.6, 62.400000000000006, 61.2, 67.0, 70.80000000000001, 73.6, 71.4, 78.2, 80.0, 75.80000000000001, 80.6, 86.4, 86.2, 86.0, 87.80000000000001, 94.6, 91.4, 95.2, 93.0, 98.8, 102.60000000000001, 102.4, 98.2, 109.0, 100.8, 106.60000000000001, 104.4, 108.2, 115.0, 109.8, 120.60000000000001, 113.4, 120.2]\n"
          ]
        }
      ]
    },
    {
      "cell_type": "code",
      "metadata": {
        "colab": {
          "base_uri": "https://localhost:8080/",
          "height": 265
        },
        "id": "7hkV6X04_cKP",
        "outputId": "a2d965e9-ade5-4ecf-f5a0-869e47bbd2f7"
      },
      "source": [
        "plt.plot(X,y, '-*r')\n",
        "plt.show()"
      ],
      "execution_count": 16,
      "outputs": [
        {
          "output_type": "display_data",
          "data": {
            "image/png": "[encoded data removed]",
            "text/plain": [
              "<Figure size 432x288 with 1 Axes>"
            ]
          },
          "metadata": {
            "needs_background": "light"
          }
        }
      ]
    },
    {
      "cell_type": "code",
      "metadata": {
        "colab": {
          "base_uri": "https://localhost:8080/"
        },
        "id": "egppJtFV_yJK",
        "outputId": "6c1f027b-79aa-44ad-c491-3ae6648f7819"
      },
      "source": [
        "X = np.array(X).reshape(-1,1)\n",
        "y = np.array(y).reshape(-1,1)\n",
        "print(f'X: {X}')"
      ],
      "execution_count": 20,
      "outputs": [
        {
          "output_type": "stream",
          "name": "stdout",
          "text": [
            "X: [[ 0]\n",
            " [ 1]\n",
            " [ 2]\n",
            " [ 3]\n",
            " [ 4]\n",
            " [ 5]\n",
            " [ 6]\n",
            " [ 7]\n",
            " [ 8]\n",
            " [ 9]\n",
            " [10]\n",
            " [11]\n",
            " [12]\n",
            " [13]\n",
            " [14]\n",
            " [15]\n",
            " [16]\n",
            " [17]\n",
            " [18]\n",
            " [19]\n",
            " [20]\n",
            " [21]\n",
            " [22]\n",
            " [23]\n",
            " [24]\n",
            " [25]\n",
            " [26]\n",
            " [27]\n",
            " [28]\n",
            " [29]\n",
            " [30]\n",
            " [31]\n",
            " [32]\n",
            " [33]\n",
            " [34]\n",
            " [35]\n",
            " [36]\n",
            " [37]\n",
            " [38]\n",
            " [39]\n",
            " [40]\n",
            " [41]\n",
            " [42]\n",
            " [43]\n",
            " [44]\n",
            " [45]\n",
            " [46]\n",
            " [47]\n",
            " [48]\n",
            " [49]]\n"
          ]
        }
      ]
    },
    {
      "cell_type": "code",
      "metadata": {
        "colab": {
          "base_uri": "https://localhost:8080/"
        },
        "id": "lCJNUggDBUsj",
        "outputId": "b950f8a1-5753-41ea-ebf3-cea327fbcfb2"
      },
      "source": [
        "XTrain, XTest, yTrain, yTest = sklearn.model_selection.train_test_split(X,y,test_size=0.2)\n",
        "print(XTrain.shape)"
      ],
      "execution_count": 22,
      "outputs": [
        {
          "output_type": "stream",
          "name": "stdout",
          "text": [
            "(40, 1)\n"
          ]
        }
      ]
    },
    {
      "cell_type": "code",
      "metadata": {
        "colab": {
          "base_uri": "https://localhost:8080/"
        },
        "id": "DVb6OKu3CJ57",
        "outputId": "96c76aea-6015-4cb7-aaba-0949b76cb029"
      },
      "source": [
        "model = linear_model.LinearRegression()\n",
        "model.fit(XTrain, yTrain)\n",
        "accuracy = model.score(XTest, yTest)\n",
        "print(f'Coefficients: {model.coef_}')\n",
        "print(f'Intercept: {model.intercept_}')\n",
        "print(f' ACCURACY: {round(accuracy* 100,2)}')"
      ],
      "execution_count": 33,
      "outputs": [
        {
          "output_type": "stream",
          "name": "stdout",
          "text": [
            "Coefficients: [[1.78228134]]\n",
            "Intercept: [32.60891332]\n",
            " ACCURACY: 98.33\n"
          ]
        }
      ]
    }
  ]
}