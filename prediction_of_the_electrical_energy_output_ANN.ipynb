{
  "nbformat": 4,
  "nbformat_minor": 0,
  "metadata": {
    "colab": {
      "name": "prediction of the electrical energy output ANN",
      "provenance": [],
      "collapsed_sections": []
    },
    "kernelspec": {
      "name": "python3",
      "display_name": "Python 3"
    }
  },
  "cells": [
    {
      "cell_type": "markdown",
      "metadata": {
        "id": "3cbb7fRy-eyr"
      },
      "source": [
        "# Artificial Neural Network"
      ]
    },
    {
      "cell_type": "markdown",
      "metadata": {
        "id": "8sNDnxE2-pwE"
      },
      "source": [
        "### Importing the libraries"
      ]
    },
    {
      "cell_type": "code",
      "metadata": {
        "id": "lxChR1Rk-umf"
      },
      "source": [
        "import numpy as np\n",
        "import pandas as pd\n",
        "import tensorflow as tf"
      ],
      "execution_count": 1,
      "outputs": []
    },
    {
      "cell_type": "code",
      "metadata": {
        "id": "uBTqR3nacj0e",
        "colab": {
          "base_uri": "https://localhost:8080/",
          "height": 35
        },
        "outputId": "52d00bab-73ee-4be1-b338-0f17d9db2541"
      },
      "source": [
        "tf.__version__"
      ],
      "execution_count": 2,
      "outputs": [
        {
          "output_type": "execute_result",
          "data": {
            "application/vnd.google.colaboratory.intrinsic+json": {
              "type": "string"
            },
            "text/plain": [
              "'2.7.0'"
            ]
          },
          "metadata": {},
          "execution_count": 2
        }
      ]
    },
    {
      "cell_type": "markdown",
      "metadata": {
        "id": "AG3FQEch-yuA"
      },
      "source": [
        "## Part 1 - Data Preprocessing"
      ]
    },
    {
      "cell_type": "markdown",
      "metadata": {
        "id": "-4zq8Mza_D9O"
      },
      "source": [
        "### Importing the dataset"
      ]
    },
    {
      "cell_type": "code",
      "metadata": {
        "id": "B9CV13Co_HHM"
      },
      "source": [
        "dataset = pd.read_excel('Folds5x2_pp.xlsx')\n",
        "X = dataset.iloc[:, :-1].values\n",
        "y = dataset.iloc[:, -1].values"
      ],
      "execution_count": 3,
      "outputs": []
    },
    {
      "cell_type": "markdown",
      "metadata": {
        "id": "VC6omXel_Up0"
      },
      "source": [
        "### Splitting the dataset into the Training set and Test set"
      ]
    },
    {
      "cell_type": "code",
      "metadata": {
        "id": "L5edeb2r_agx"
      },
      "source": [
        "from sklearn.model_selection import train_test_split\n",
        "X_train, X_test, y_train, y_test = train_test_split(X, y, test_size = 0.2, random_state = 0)"
      ],
      "execution_count": 4,
      "outputs": []
    },
    {
      "cell_type": "markdown",
      "metadata": {
        "id": "_mSLlAT9_eyI"
      },
      "source": [
        "## Part 2 - Building the ANN"
      ]
    },
    {
      "cell_type": "markdown",
      "metadata": {
        "id": "CsBULd_f_wLY"
      },
      "source": [
        "### Initializing the ANN"
      ]
    },
    {
      "cell_type": "code",
      "metadata": {
        "id": "J6Hd97Ls__Nz"
      },
      "source": [
        "ann = tf.keras.models.Sequential()"
      ],
      "execution_count": 5,
      "outputs": []
    },
    {
      "cell_type": "markdown",
      "metadata": {
        "id": "iitAFJS_ABUn"
      },
      "source": [
        "### Adding the input layer and the first hidden layer"
      ]
    },
    {
      "cell_type": "code",
      "metadata": {
        "id": "ksO_Vv40AHix"
      },
      "source": [
        "ann.add(tf.keras.layers.Dense(units=6, activation='relu'))"
      ],
      "execution_count": 6,
      "outputs": []
    },
    {
      "cell_type": "markdown",
      "metadata": {
        "id": "-lb4kK_wAKbs"
      },
      "source": [
        "### Adding the second hidden layer"
      ]
    },
    {
      "cell_type": "code",
      "metadata": {
        "id": "c2357OqEAQOQ"
      },
      "source": [
        "ann.add(tf.keras.layers.Dense(units=6, activation='relu'))"
      ],
      "execution_count": 7,
      "outputs": []
    },
    {
      "cell_type": "markdown",
      "metadata": {
        "id": "jwMOmKb3AdBY"
      },
      "source": [
        "### Adding the output layer"
      ]
    },
    {
      "cell_type": "code",
      "metadata": {
        "id": "YFATpzsUAkLL"
      },
      "source": [
        "ann.add(tf.keras.layers.Dense(units=1))"
      ],
      "execution_count": 8,
      "outputs": []
    },
    {
      "cell_type": "markdown",
      "metadata": {
        "id": "fq7e4fF6A1yy"
      },
      "source": [
        "## Part 3 - Training the ANN"
      ]
    },
    {
      "cell_type": "markdown",
      "metadata": {
        "id": "qDeylAs2An25"
      },
      "source": [
        "### Compiling the ANN"
      ]
    },
    {
      "cell_type": "code",
      "metadata": {
        "id": "pesgbWlCAtB4"
      },
      "source": [
        "ann.compile(optimizer = 'adam', loss = 'mean_squared_error')"
      ],
      "execution_count": 9,
      "outputs": []
    },
    {
      "cell_type": "markdown",
      "metadata": {
        "id": "YjVuiybYOo7r"
      },
      "source": [
        "### Training the ANN model on the Training set"
      ]
    },
    {
      "cell_type": "code",
      "metadata": {
        "id": "c_vV-tiiA5zn",
        "colab": {
          "base_uri": "https://localhost:8080/"
        },
        "outputId": "cc0ce545-dc12-4094-bb2f-f552b2fc3108"
      },
      "source": [
        "ann.fit(X_train, y_train, batch_size = 32, epochs = 100)"
      ],
      "execution_count": 10,
      "outputs": [
        {
          "output_type": "stream",
          "name": "stdout",
          "text": [
            "Epoch 1/100\n",
            "240/240 [==============================] - 1s 2ms/step - loss: 189540.5000\n",
            "Epoch 2/100\n",
            "240/240 [==============================] - 0s 2ms/step - loss: 42523.6523\n",
            "Epoch 3/100\n",
            "240/240 [==============================] - 0s 2ms/step - loss: 267.0700\n",
            "Epoch 4/100\n",
            "240/240 [==============================] - 0s 2ms/step - loss: 233.3946\n",
            "Epoch 5/100\n",
            "240/240 [==============================] - 0s 2ms/step - loss: 228.7039\n",
            "Epoch 6/100\n",
            "240/240 [==============================] - 0s 2ms/step - loss: 223.2630\n",
            "Epoch 7/100\n",
            "240/240 [==============================] - 0s 2ms/step - loss: 217.1286\n",
            "Epoch 8/100\n",
            "240/240 [==============================] - 0s 2ms/step - loss: 210.2330\n",
            "Epoch 9/100\n",
            "240/240 [==============================] - 0s 2ms/step - loss: 202.4545\n",
            "Epoch 10/100\n",
            "240/240 [==============================] - 0s 2ms/step - loss: 194.1999\n",
            "Epoch 11/100\n",
            "240/240 [==============================] - 0s 2ms/step - loss: 184.8745\n",
            "Epoch 12/100\n",
            "240/240 [==============================] - 0s 2ms/step - loss: 175.7493\n",
            "Epoch 13/100\n",
            "240/240 [==============================] - 0s 2ms/step - loss: 165.3553\n",
            "Epoch 14/100\n",
            "240/240 [==============================] - 0s 2ms/step - loss: 154.9637\n",
            "Epoch 15/100\n",
            "240/240 [==============================] - 0s 1ms/step - loss: 144.3413\n",
            "Epoch 16/100\n",
            "240/240 [==============================] - 0s 2ms/step - loss: 133.8556\n",
            "Epoch 17/100\n",
            "240/240 [==============================] - 0s 2ms/step - loss: 123.1216\n",
            "Epoch 18/100\n",
            "240/240 [==============================] - 0s 2ms/step - loss: 112.6075\n",
            "Epoch 19/100\n",
            "240/240 [==============================] - 0s 2ms/step - loss: 102.6548\n",
            "Epoch 20/100\n",
            "240/240 [==============================] - 0s 2ms/step - loss: 93.1929\n",
            "Epoch 21/100\n",
            "240/240 [==============================] - 0s 1ms/step - loss: 84.3468\n",
            "Epoch 22/100\n",
            "240/240 [==============================] - 0s 2ms/step - loss: 76.5648\n",
            "Epoch 23/100\n",
            "240/240 [==============================] - 0s 2ms/step - loss: 69.5031\n",
            "Epoch 24/100\n",
            "240/240 [==============================] - 0s 2ms/step - loss: 63.3351\n",
            "Epoch 25/100\n",
            "240/240 [==============================] - 0s 2ms/step - loss: 58.0051\n",
            "Epoch 26/100\n",
            "240/240 [==============================] - 0s 2ms/step - loss: 53.4734\n",
            "Epoch 27/100\n",
            "240/240 [==============================] - 0s 2ms/step - loss: 49.8040\n",
            "Epoch 28/100\n",
            "240/240 [==============================] - 0s 2ms/step - loss: 46.5442\n",
            "Epoch 29/100\n",
            "240/240 [==============================] - 0s 2ms/step - loss: 43.5821\n",
            "Epoch 30/100\n",
            "240/240 [==============================] - 0s 2ms/step - loss: 41.4027\n",
            "Epoch 31/100\n",
            "240/240 [==============================] - 0s 2ms/step - loss: 39.3661\n",
            "Epoch 32/100\n",
            "240/240 [==============================] - 0s 2ms/step - loss: 37.5768\n",
            "Epoch 33/100\n",
            "240/240 [==============================] - 0s 2ms/step - loss: 36.3929\n",
            "Epoch 34/100\n",
            "240/240 [==============================] - 0s 2ms/step - loss: 35.2746\n",
            "Epoch 35/100\n",
            "240/240 [==============================] - 0s 1ms/step - loss: 34.5943\n",
            "Epoch 36/100\n",
            "240/240 [==============================] - 0s 1ms/step - loss: 33.3338\n",
            "Epoch 37/100\n",
            "240/240 [==============================] - 0s 1ms/step - loss: 32.7362\n",
            "Epoch 38/100\n",
            "240/240 [==============================] - 0s 1ms/step - loss: 32.3105\n",
            "Epoch 39/100\n",
            "240/240 [==============================] - 0s 1ms/step - loss: 31.6235\n",
            "Epoch 40/100\n",
            "240/240 [==============================] - 0s 2ms/step - loss: 31.4972\n",
            "Epoch 41/100\n",
            "240/240 [==============================] - 0s 2ms/step - loss: 31.3790\n",
            "Epoch 42/100\n",
            "240/240 [==============================] - 0s 2ms/step - loss: 30.4282\n",
            "Epoch 43/100\n",
            "240/240 [==============================] - 0s 2ms/step - loss: 30.0792\n",
            "Epoch 44/100\n",
            "240/240 [==============================] - 0s 2ms/step - loss: 29.7962\n",
            "Epoch 45/100\n",
            "240/240 [==============================] - 0s 2ms/step - loss: 29.6243\n",
            "Epoch 46/100\n",
            "240/240 [==============================] - 0s 2ms/step - loss: 29.1529\n",
            "Epoch 47/100\n",
            "240/240 [==============================] - 0s 2ms/step - loss: 29.2308\n",
            "Epoch 48/100\n",
            "240/240 [==============================] - 0s 2ms/step - loss: 29.2053\n",
            "Epoch 49/100\n",
            "240/240 [==============================] - 0s 2ms/step - loss: 28.7644\n",
            "Epoch 50/100\n",
            "240/240 [==============================] - 0s 1ms/step - loss: 28.3966\n",
            "Epoch 51/100\n",
            "240/240 [==============================] - 0s 2ms/step - loss: 28.2114\n",
            "Epoch 52/100\n",
            "240/240 [==============================] - 0s 2ms/step - loss: 28.1355\n",
            "Epoch 53/100\n",
            "240/240 [==============================] - 0s 2ms/step - loss: 27.6876\n",
            "Epoch 54/100\n",
            "240/240 [==============================] - 0s 2ms/step - loss: 27.9880\n",
            "Epoch 55/100\n",
            "240/240 [==============================] - 0s 2ms/step - loss: 27.6037\n",
            "Epoch 56/100\n",
            "240/240 [==============================] - 0s 2ms/step - loss: 27.4455\n",
            "Epoch 57/100\n",
            "240/240 [==============================] - 0s 2ms/step - loss: 27.3670\n",
            "Epoch 58/100\n",
            "240/240 [==============================] - 0s 1ms/step - loss: 27.4472\n",
            "Epoch 59/100\n",
            "240/240 [==============================] - 0s 2ms/step - loss: 27.1761\n",
            "Epoch 60/100\n",
            "240/240 [==============================] - 0s 2ms/step - loss: 27.1505\n",
            "Epoch 61/100\n",
            "240/240 [==============================] - 0s 2ms/step - loss: 26.9885\n",
            "Epoch 62/100\n",
            "240/240 [==============================] - 0s 2ms/step - loss: 27.1434\n",
            "Epoch 63/100\n",
            "240/240 [==============================] - 0s 1ms/step - loss: 26.7289\n",
            "Epoch 64/100\n",
            "240/240 [==============================] - 0s 2ms/step - loss: 26.8678\n",
            "Epoch 65/100\n",
            "240/240 [==============================] - 0s 2ms/step - loss: 26.7835\n",
            "Epoch 66/100\n",
            "240/240 [==============================] - 0s 1ms/step - loss: 26.6115\n",
            "Epoch 67/100\n",
            "240/240 [==============================] - 0s 1ms/step - loss: 26.6807\n",
            "Epoch 68/100\n",
            "240/240 [==============================] - 0s 1ms/step - loss: 26.8667\n",
            "Epoch 69/100\n",
            "240/240 [==============================] - 0s 2ms/step - loss: 26.5265\n",
            "Epoch 70/100\n",
            "240/240 [==============================] - 0s 1ms/step - loss: 27.0850\n",
            "Epoch 71/100\n",
            "240/240 [==============================] - 0s 1ms/step - loss: 26.7869\n",
            "Epoch 72/100\n",
            "240/240 [==============================] - 0s 1ms/step - loss: 26.6524\n",
            "Epoch 73/100\n",
            "240/240 [==============================] - 0s 2ms/step - loss: 26.8654\n",
            "Epoch 74/100\n",
            "240/240 [==============================] - 0s 1ms/step - loss: 26.8052\n",
            "Epoch 75/100\n",
            "240/240 [==============================] - 0s 2ms/step - loss: 26.4038\n",
            "Epoch 76/100\n",
            "240/240 [==============================] - 0s 1ms/step - loss: 26.4064\n",
            "Epoch 77/100\n",
            "240/240 [==============================] - 0s 1ms/step - loss: 26.4124\n",
            "Epoch 78/100\n",
            "240/240 [==============================] - 0s 2ms/step - loss: 26.6137\n",
            "Epoch 79/100\n",
            "240/240 [==============================] - 0s 2ms/step - loss: 26.4683\n",
            "Epoch 80/100\n",
            "240/240 [==============================] - 0s 1ms/step - loss: 26.5581\n",
            "Epoch 81/100\n",
            "240/240 [==============================] - 0s 1ms/step - loss: 26.4942\n",
            "Epoch 82/100\n",
            "240/240 [==============================] - 0s 2ms/step - loss: 26.6110\n",
            "Epoch 83/100\n",
            "240/240 [==============================] - 0s 1ms/step - loss: 26.4157\n",
            "Epoch 84/100\n",
            "240/240 [==============================] - 0s 1ms/step - loss: 26.6629\n",
            "Epoch 85/100\n",
            "240/240 [==============================] - 0s 1ms/step - loss: 26.9485\n",
            "Epoch 86/100\n",
            "240/240 [==============================] - 0s 1ms/step - loss: 27.0239\n",
            "Epoch 87/100\n",
            "240/240 [==============================] - 0s 1ms/step - loss: 26.3873\n",
            "Epoch 88/100\n",
            "240/240 [==============================] - 0s 2ms/step - loss: 26.1743\n",
            "Epoch 89/100\n",
            "240/240 [==============================] - 0s 1ms/step - loss: 26.4925\n",
            "Epoch 90/100\n",
            "240/240 [==============================] - 0s 1ms/step - loss: 26.0617\n",
            "Epoch 91/100\n",
            "240/240 [==============================] - 0s 1ms/step - loss: 26.0773\n",
            "Epoch 92/100\n",
            "240/240 [==============================] - 0s 2ms/step - loss: 26.6768\n",
            "Epoch 93/100\n",
            "240/240 [==============================] - 0s 2ms/step - loss: 26.3389\n",
            "Epoch 94/100\n",
            "240/240 [==============================] - 0s 1ms/step - loss: 26.3735\n",
            "Epoch 95/100\n",
            "240/240 [==============================] - 0s 2ms/step - loss: 26.3125\n",
            "Epoch 96/100\n",
            "240/240 [==============================] - 0s 2ms/step - loss: 26.5755\n",
            "Epoch 97/100\n",
            "240/240 [==============================] - 0s 2ms/step - loss: 26.4349\n",
            "Epoch 98/100\n",
            "240/240 [==============================] - 0s 2ms/step - loss: 26.4481\n",
            "Epoch 99/100\n",
            "240/240 [==============================] - 0s 2ms/step - loss: 26.5615\n",
            "Epoch 100/100\n",
            "240/240 [==============================] - 0s 2ms/step - loss: 26.5842\n"
          ]
        },
        {
          "output_type": "execute_result",
          "data": {
            "text/plain": [
              "<keras.callbacks.History at 0x7fc1b1541a50>"
            ]
          },
          "metadata": {},
          "execution_count": 10
        }
      ]
    },
    {
      "cell_type": "markdown",
      "metadata": {
        "id": "0H0zKKNEBLD5"
      },
      "source": [
        "### Predicting the results of the Test set"
      ]
    },
    {
      "cell_type": "code",
      "metadata": {
        "id": "IA0yApEmBG1X",
        "colab": {
          "base_uri": "https://localhost:8080/"
        },
        "outputId": "5dec7f21-b09a-4bf9-97b4-b5e24be1ddaa"
      },
      "source": [
        "y_pred = ann.predict(X_test)\n",
        "np.set_printoptions(precision=2)\n",
        "print(np.concatenate((y_pred.reshape(len(y_pred),1), y_test.reshape(len(y_test),1)),1))"
      ],
      "execution_count": 11,
      "outputs": [
        {
          "output_type": "stream",
          "name": "stdout",
          "text": [
            "[[431.51 431.23]\n",
            " [462.75 460.01]\n",
            " [466.34 461.14]\n",
            " ...\n",
            " [473.41 473.26]\n",
            " [440.51 438.  ]\n",
            " [459.59 463.28]]\n"
          ]
        }
      ]
    }
  ]
}